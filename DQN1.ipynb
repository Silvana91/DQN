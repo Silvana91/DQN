{
  "nbformat": 4,
  "nbformat_minor": 0,
  "metadata": {
    "colab": {
      "provenance": []
    },
    "kernelspec": {
      "name": "python3",
      "display_name": "Python 3"
    },
    "language_info": {
      "name": "python"
    }
  },
  "cells": [
    {
      "cell_type": "code",
      "execution_count": null,
      "metadata": {
        "colab": {
          "base_uri": "https://localhost:8080/"
        },
        "id": "xyRIO4tk5OtP",
        "outputId": "0788eaae-1fd3-4ab8-95a5-eb9fad4a2170"
      },
      "outputs": [
        {
          "output_type": "stream",
          "name": "stderr",
          "text": [
            "/usr/local/lib/python3.10/dist-packages/gym/core.py:317: DeprecationWarning: \u001b[33mWARN: Initializing wrapper in old step API which returns one bool instead of two. It is recommended to set `new_step_api=True` to use new step API. This will be the default behaviour in future.\u001b[0m\n",
            "  deprecation(\n",
            "/usr/local/lib/python3.10/dist-packages/gym/wrappers/step_api_compatibility.py:39: DeprecationWarning: \u001b[33mWARN: Initializing environment in old step API which returns one bool instead of two. It is recommended to set `new_step_api=True` to use new step API. This will be the default behaviour in future.\u001b[0m\n",
            "  deprecation(\n"
          ]
        }
      ],
      "source": [
        "import gym\n",
        "import torch\n",
        "import torch.nn as nn\n",
        "import torch.optim as optim\n",
        "import random\n",
        "import numpy as np\n",
        "from collections import deque\n",
        "import matplotlib.pyplot as plt\n",
        "import cv2\n",
        "\n",
        "environment = gym.make(\"MountainCar-v0\")\n"
      ]
    },
    {
      "cell_type": "code",
      "source": [
        "\n",
        "class Network(nn.Module):\n",
        "    def __init__(self, state_dimension, action_dimension):\n",
        "        super(Network, self).__init__()\n",
        "        self.input_layer = nn.Linear(state_dimension, 128)\n",
        "        self.hidden_layer = nn.Linear(128, 128)\n",
        "        self.output_layer = nn.Linear(128, action_dimension)\n",
        "\n",
        "    def forward(self, state):\n",
        "        state = torch.relu(self.input_layer(state))\n",
        "        state = torch.relu(self.hidden_layer(state))\n",
        "        return self.output_layer(state)\n"
      ],
      "metadata": {
        "colab": {
          "base_uri": "https://localhost:8080/"
        },
        "id": "Cdcz_wcH7Sc0",
        "outputId": "fe9e5b52-bae7-405c-ddae-5b1d49fbbc27"
      },
      "execution_count": null,
      "outputs": [
        {
          "output_type": "stream",
          "name": "stderr",
          "text": [
            "/usr/local/lib/python3.10/dist-packages/ipykernel/ipkernel.py:283: DeprecationWarning: `should_run_async` will not call `transform_cell` automatically in the future. Please pass the result to `transformed_cell` argument and any exception that happen during thetransform in `preprocessing_exc_tuple` in IPython 7.17 and above.\n",
            "  and should_run_async(code)\n"
          ]
        }
      ]
    },
    {
      "cell_type": "code",
      "source": [
        "\n",
        "state_dimension = environment.observation_space.shape[0]\n",
        "action_dimension = environment.action_space.n\n",
        "policy_network = Network(state_dimension, action_dimension)\n",
        "target_network = Network(state_dimension, action_dimension)\n",
        "target_network.load_state_dict(policy_network.state_dict())\n",
        "target_network.eval()\n",
        "\n",
        "optimizer = optim.Adam(policy_network.parameters(), lr=0.001)\n",
        "memory = deque(maxlen=10000)\n"
      ],
      "metadata": {
        "id": "NAPQebFv7SgA"
      },
      "execution_count": null,
      "outputs": []
    },
    {
      "cell_type": "code",
      "source": [
        "\n",
        "def choose(state, exploration_rate):\n",
        "    if random.random() < exploration_rate:\n",
        "        return environment.action_space.sample()\n",
        "    else:\n",
        "        state_tensor = torch.FloatTensor(state).unsqueeze(0)\n",
        "        action_values = policy_network(state_tensor)\n",
        "        return torch.argmax(action_values).item()\n"
      ],
      "metadata": {
        "colab": {
          "base_uri": "https://localhost:8080/"
        },
        "id": "KqCP03zn7Sk4",
        "outputId": "0399b7d9-82cc-4437-bf1b-e5865a0c99e9"
      },
      "execution_count": null,
      "outputs": [
        {
          "output_type": "stream",
          "name": "stderr",
          "text": [
            "/usr/local/lib/python3.10/dist-packages/ipykernel/ipkernel.py:283: DeprecationWarning: `should_run_async` will not call `transform_cell` automatically in the future. Please pass the result to `transformed_cell` argument and any exception that happen during thetransform in `preprocessing_exc_tuple` in IPython 7.17 and above.\n",
            "  and should_run_async(code)\n"
          ]
        }
      ]
    },
    {
      "cell_type": "code",
      "source": [
        "def update():\n",
        "    if len(memory) < 64:\n",
        "        return\n",
        "\n",
        "    batch = random.sample(memory, 64)\n",
        "    states, actions, rewards, next_states, dones = zip(*batch)\n",
        "\n",
        "    states = torch.FloatTensor(states)\n",
        "    actions = torch.LongTensor(actions).unsqueeze(1)\n",
        "    rewards = torch.FloatTensor(rewards)\n",
        "    next_states = torch.FloatTensor(next_states)\n",
        "    dones = torch.FloatTensor(dones)\n",
        "\n",
        "    q_values = policy_network(states).gather(1, actions).squeeze()\n",
        "\n",
        "    with torch.no_grad():\n",
        "        max_next_q_values = target_network(next_states).max(1)[0]\n",
        "        target_q_values = rewards + 0.99 * max_next_q_values * (1 - dones)\n",
        "\n",
        "    loss = nn.MSELoss()(q_values, target_q_values)\n",
        "\n",
        "    optimizer.zero_grad()\n",
        "    loss.backward()\n",
        "    optimizer.step()\n"
      ],
      "metadata": {
        "id": "DGLBv4AZ7Sr7"
      },
      "execution_count": null,
      "outputs": []
    },
    {
      "cell_type": "code",
      "source": [
        "\n",
        "rewards_per_episode = []\n",
        "step_counter = 0\n",
        "exploration_rate = 1.0\n",
        "\n",
        "for episode in range(500):\n",
        "    state = environment.reset()\n",
        "    episode_reward = 0\n",
        "    done = False\n",
        "\n",
        "    while not done:\n",
        "\n",
        "        action = choose(state, exploration_rate)\n",
        "        next_state, reward, done, _ = environment.step(action)\n",
        "\n",
        "        if done and next_state[0] >= 0.5:\n",
        "            reward = 1.0\n",
        "\n",
        "        #\n",
        "        memory.append((state, action, reward, next_state, done))\n",
        "\n",
        "        state = next_state\n",
        "        episode_reward += reward\n",
        "\n",
        "        update()\n",
        "\n",
        "        if step_counter % 100 == 0:\n",
        "            target_network.load_state_dict(policy_network.state_dict())\n",
        "\n",
        "        step_counter += 1\n",
        "\n",
        "    exploration_rate = max(0.01, exploration_rate * 0.995)\n",
        "\n",
        "    rewards_per_episode.append(episode_reward)\n",
        "\n",
        "    if (episode + 1) % 10 == 0:\n",
        "        print(f\"Episode {episode + 1}: Reward = {episode_reward}\")\n"
      ],
      "metadata": {
        "colab": {
          "base_uri": "https://localhost:8080/"
        },
        "id": "uFVg7p0h7SuM",
        "outputId": "ac4608eb-940c-4829-b1fd-6d4459bf00ee"
      },
      "execution_count": null,
      "outputs": [
        {
          "output_type": "stream",
          "name": "stderr",
          "text": [
            "/usr/local/lib/python3.10/dist-packages/gym/utils/passive_env_checker.py:241: DeprecationWarning: `np.bool8` is a deprecated alias for `np.bool_`.  (Deprecated NumPy 1.24)\n",
            "  if not isinstance(terminated, (bool, np.bool8)):\n",
            "<ipython-input-5-2074e525cc16>:10: UserWarning: Creating a tensor from a list of numpy.ndarrays is extremely slow. Please consider converting the list to a single numpy.ndarray with numpy.array() before converting to a tensor. (Triggered internally at ../torch/csrc/utils/tensor_new.cpp:278.)\n",
            "  states = torch.FloatTensor(states)\n"
          ]
        },
        {
          "output_type": "stream",
          "name": "stdout",
          "text": [
            "Episode 10: Reward = -200.0\n",
            "Episode 20: Reward = -200.0\n",
            "Episode 30: Reward = -200.0\n",
            "Episode 40: Reward = -200.0\n",
            "Episode 50: Reward = -200.0\n",
            "Episode 60: Reward = -200.0\n",
            "Episode 70: Reward = -200.0\n",
            "Episode 80: Reward = -200.0\n",
            "Episode 90: Reward = -200.0\n",
            "Episode 100: Reward = -200.0\n",
            "Episode 110: Reward = -200.0\n",
            "Episode 120: Reward = -200.0\n",
            "Episode 130: Reward = -200.0\n",
            "Episode 140: Reward = -200.0\n",
            "Episode 150: Reward = -200.0\n",
            "Episode 160: Reward = -200.0\n",
            "Episode 170: Reward = -200.0\n",
            "Episode 180: Reward = -200.0\n",
            "Episode 190: Reward = -200.0\n",
            "Episode 200: Reward = -200.0\n",
            "Episode 210: Reward = -200.0\n",
            "Episode 220: Reward = -200.0\n",
            "Episode 230: Reward = -200.0\n",
            "Episode 240: Reward = -200.0\n",
            "Episode 250: Reward = -200.0\n",
            "Episode 260: Reward = -154.0\n",
            "Episode 270: Reward = -200.0\n",
            "Episode 280: Reward = -146.0\n",
            "Episode 290: Reward = -158.0\n",
            "Episode 300: Reward = -200.0\n",
            "Episode 310: Reward = -176.0\n",
            "Episode 320: Reward = -167.0\n",
            "Episode 330: Reward = -155.0\n",
            "Episode 340: Reward = -148.0\n",
            "Episode 350: Reward = -152.0\n",
            "Episode 360: Reward = -148.0\n",
            "Episode 370: Reward = -143.0\n",
            "Episode 380: Reward = -176.0\n",
            "Episode 390: Reward = -117.0\n",
            "Episode 400: Reward = -149.0\n",
            "Episode 410: Reward = -112.0\n",
            "Episode 420: Reward = -121.0\n",
            "Episode 430: Reward = -119.0\n",
            "Episode 440: Reward = -166.0\n",
            "Episode 450: Reward = -189.0\n",
            "Episode 460: Reward = -112.0\n",
            "Episode 470: Reward = -147.0\n",
            "Episode 480: Reward = -167.0\n",
            "Episode 490: Reward = -153.0\n",
            "Episode 500: Reward = -106.0\n"
          ]
        }
      ]
    },
    {
      "cell_type": "code",
      "source": [
        "\n",
        "torch.save(policy_network.state_dict(), \"dqn_mountaincar.pth\")\n",
        "print(\"Model saved.\")\n",
        "\n",
        "plt.plot(rewards_per_episode)\n",
        "plt.xlabel('Episode')\n",
        "plt.ylabel('Reward')\n",
        "plt.title('DQN on MountainCar')\n",
        "plt.show()\n"
      ],
      "metadata": {
        "colab": {
          "base_uri": "https://localhost:8080/",
          "height": 489
        },
        "id": "Zy8Ps-dq7Swo",
        "outputId": "49c84287-5335-446b-f0f5-604452c07a91"
      },
      "execution_count": null,
      "outputs": [
        {
          "output_type": "stream",
          "name": "stdout",
          "text": [
            "Model saved.\n"
          ]
        },
        {
          "output_type": "display_data",
          "data": {
            "text/plain": [
              "<Figure size 640x480 with 1 Axes>"
            ],
            "image/png": "[encoded data removed]"
          },
          "metadata": {}
        }
      ]
    },
    {
      "cell_type": "code",
      "source": [
        "\n",
        "def record(environment, trained_network, filename=\"mountaincar_gameplay.mp4\"):\n",
        "    frames = []\n",
        "    state = environment.reset()\n",
        "    done = False\n",
        "    while not done:\n",
        "        state_tensor = torch.FloatTensor(state).unsqueeze(0)\n",
        "        action = torch.argmax(trained_network(state_tensor)).item()\n",
        "        next_state, _, done, _ = environment.step(action)\n",
        "\n",
        "        frame = environment.render(mode='rgb_array')\n",
        "        frames.append(frame)\n",
        "        state = next_state\n",
        "\n",
        "    #\n",
        "    height, width, layers = frames[0].shape\n",
        "    video_writer = cv2.VideoWriter(filename, cv2.VideoWriter_fourcc(*'mp4v'), 30, (width, height))\n",
        "    for frame in frames:\n",
        "        video_writer.write(frame)\n",
        "    video_writer.release()\n"
      ],
      "metadata": {
        "id": "IIWxnz4o7l_v"
      },
      "execution_count": null,
      "outputs": []
    },
    {
      "cell_type": "code",
      "source": [
        "\n",
        "record(environment, policy_network)\n",
        "\n"
      ],
      "metadata": {
        "colab": {
          "base_uri": "https://localhost:8080/"
        },
        "id": "TgKKhcMR7rhi",
        "outputId": "ff7f5d29-e3dc-41ef-c9e8-4b5407266890"
      },
      "execution_count": null,
      "outputs": [
        {
          "output_type": "stream",
          "name": "stdout",
          "text": [
            "Recording gameplay video...\n"
          ]
        },
        {
          "output_type": "stream",
          "name": "stderr",
          "text": [
            "/usr/local/lib/python3.10/dist-packages/gym/core.py:43: DeprecationWarning: \u001b[33mWARN: The argument mode in render method is deprecated; use render_mode during environment initialization instead.\n",
            "See here for more information: https://www.gymlibrary.ml/content/api/\u001b[0m\n",
            "  deprecation(\n",
            "/usr/local/lib/python3.10/dist-packages/pygame/pkgdata.py:25: DeprecationWarning: pkg_resources is deprecated as an API. See https://setuptools.pypa.io/en/latest/pkg_resources.html\n",
            "  from pkg_resources import resource_stream, resource_exists\n",
            "/usr/local/lib/python3.10/dist-packages/pkg_resources/__init__.py:3154: DeprecationWarning: Deprecated call to `pkg_resources.declare_namespace('google')`.\n",
            "Implementing implicit namespace packages (as specified in PEP 420) is preferred to `pkg_resources.declare_namespace`. See https://setuptools.pypa.io/en/latest/references/keywords.html#keyword-namespace-packages\n",
            "  declare_namespace(pkg)\n",
            "/usr/local/lib/python3.10/dist-packages/pkg_resources/__init__.py:3154: DeprecationWarning: Deprecated call to `pkg_resources.declare_namespace('google.cloud')`.\n",
            "Implementing implicit namespace packages (as specified in PEP 420) is preferred to `pkg_resources.declare_namespace`. See https://setuptools.pypa.io/en/latest/references/keywords.html#keyword-namespace-packages\n",
            "  declare_namespace(pkg)\n",
            "/usr/local/lib/python3.10/dist-packages/pkg_resources/__init__.py:3154: DeprecationWarning: Deprecated call to `pkg_resources.declare_namespace('sphinxcontrib')`.\n",
            "Implementing implicit namespace packages (as specified in PEP 420) is preferred to `pkg_resources.declare_namespace`. See https://setuptools.pypa.io/en/latest/references/keywords.html#keyword-namespace-packages\n",
            "  declare_namespace(pkg)\n",
            "/usr/local/lib/python3.10/dist-packages/gym/core.py:43: DeprecationWarning: \u001b[33mWARN: The argument mode in render method is deprecated; use render_mode during environment initialization instead.\n",
            "See here for more information: https://www.gymlibrary.ml/content/api/\u001b[0m\n",
            "  deprecation(\n"
          ]
        },
        {
          "output_type": "stream",
          "name": "stdout",
          "text": [
            "Video saved.\n"
          ]
        }
      ]
    }
  ]
}